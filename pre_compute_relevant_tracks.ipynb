{
 "cells": [
  {
   "cell_type": "code",
   "execution_count": 1,
   "metadata": {},
   "outputs": [],
   "source": [
    "import pickle\n",
    "from preprocess import load_data_and_preprocess"
   ]
  },
  {
   "cell_type": "code",
   "execution_count": 2,
   "metadata": {},
   "outputs": [
    {
     "name": "stdout",
     "output_type": "stream",
     "text": [
      "Loading datasets...\n",
      "Preprocessing tracks...\n"
     ]
    }
   ],
   "source": [
    "tracks = load_data_and_preprocess()"
   ]
  },
  {
   "cell_type": "code",
   "execution_count": 3,
   "metadata": {},
   "outputs": [],
   "source": [
    "relevant_songs = {}\n",
    "for index, query_track in enumerate(tracks):\n",
    "    relevant_ids = [\n",
    "        track.track_id\n",
    "        for track in tracks\n",
    "        if track.track_id != query_track.track_id and (\n",
    "            any(top_genre in track.top_genres for top_genre in query_track.top_genres)\n",
    "        )\n",
    "    ]\n",
    "    relevant_songs[query_track.track_id] = relevant_ids"
   ]
  },
  {
   "cell_type": "code",
   "execution_count": 4,
   "metadata": {},
   "outputs": [],
   "source": [
    "with open(\"precomputed_relevant_songs.pkl\", \"wb\") as f:\n",
    "    pickle.dump(relevant_songs, f)"
   ]
  }
 ],
 "metadata": {
  "kernelspec": {
   "display_name": "mmrs24",
   "language": "python",
   "name": "python3"
  },
  "language_info": {
   "codemirror_mode": {
    "name": "ipython",
    "version": 3
   },
   "file_extension": ".py",
   "mimetype": "text/x-python",
   "name": "python",
   "nbconvert_exporter": "python",
   "pygments_lexer": "ipython3",
   "version": "3.11.0"
  }
 },
 "nbformat": 4,
 "nbformat_minor": 2
}
