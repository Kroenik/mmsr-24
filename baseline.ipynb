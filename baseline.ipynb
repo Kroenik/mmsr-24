{
 "cells": [
  {
   "cell_type": "code",
   "execution_count": 17,
   "outputs": [],
   "source": [
    "import pandas as pd\n",
    "import numpy as np"
   ],
   "metadata": {
    "collapsed": false,
    "ExecuteTime": {
     "end_time": "2024-12-02T20:29:43.516656Z",
     "start_time": "2024-12-02T20:29:43.514826Z"
    }
   }
  },
  {
   "cell_type": "code",
   "execution_count": 3,
   "metadata": {
    "collapsed": true,
    "ExecuteTime": {
     "end_time": "2024-12-02T20:19:37.785235Z",
     "start_time": "2024-12-02T20:19:37.690196Z"
    }
   },
   "outputs": [
    {
     "data": {
      "text/plain": "                 id               artist              song  \\\n0  01rMxQv6vhyE1oQX  Against the Current    Chasing Ghosts   \n1  02ZnlCGZEbkfCDxo        Laura Pausini  Tra Te E Il Mare   \n2  04OjszRi9rC5BlHC         Grizzly Bear             Knife   \n3  04iitW3ffa0mhpx3                Ne-Yo  Miss Independent   \n4  04xUDjAYC14jsHyH           Jawbreaker     Jinx Removing   \n\n                                    album_name  \n0                                 In Our Bones  \n1  The Best of Laura Pausini - E Ritorno Da Te  \n2                                 Yellow House  \n3  Year Of The Gentleman (Bonus Track Edition)  \n4         24 Hour Revenge Therapy (Remastered)  ",
      "text/html": "<div>\n<style scoped>\n    .dataframe tbody tr th:only-of-type {\n        vertical-align: middle;\n    }\n\n    .dataframe tbody tr th {\n        vertical-align: top;\n    }\n\n    .dataframe thead th {\n        text-align: right;\n    }\n</style>\n<table border=\"1\" class=\"dataframe\">\n  <thead>\n    <tr style=\"text-align: right;\">\n      <th></th>\n      <th>id</th>\n      <th>artist</th>\n      <th>song</th>\n      <th>album_name</th>\n    </tr>\n  </thead>\n  <tbody>\n    <tr>\n      <th>0</th>\n      <td>01rMxQv6vhyE1oQX</td>\n      <td>Against the Current</td>\n      <td>Chasing Ghosts</td>\n      <td>In Our Bones</td>\n    </tr>\n    <tr>\n      <th>1</th>\n      <td>02ZnlCGZEbkfCDxo</td>\n      <td>Laura Pausini</td>\n      <td>Tra Te E Il Mare</td>\n      <td>The Best of Laura Pausini - E Ritorno Da Te</td>\n    </tr>\n    <tr>\n      <th>2</th>\n      <td>04OjszRi9rC5BlHC</td>\n      <td>Grizzly Bear</td>\n      <td>Knife</td>\n      <td>Yellow House</td>\n    </tr>\n    <tr>\n      <th>3</th>\n      <td>04iitW3ffa0mhpx3</td>\n      <td>Ne-Yo</td>\n      <td>Miss Independent</td>\n      <td>Year Of The Gentleman (Bonus Track Edition)</td>\n    </tr>\n    <tr>\n      <th>4</th>\n      <td>04xUDjAYC14jsHyH</td>\n      <td>Jawbreaker</td>\n      <td>Jinx Removing</td>\n      <td>24 Hour Revenge Therapy (Remastered)</td>\n    </tr>\n  </tbody>\n</table>\n</div>"
     },
     "execution_count": 3,
     "metadata": {},
     "output_type": "execute_result"
    }
   ],
   "source": [
    "basic_information = pd.read_csv('dataset/id_information_mmsr.tsv', sep='\\t')\n",
    "basic_information.head()"
   ]
  },
  {
   "cell_type": "code",
   "execution_count": 12,
   "outputs": [],
   "source": [
    "class Track:\n",
    "    def __init__(self, track_id, track_name, artist, album_name):\n",
    "        self.track_id = track_id\n",
    "        self.track_name = track_name\n",
    "        self.artist = artist\n",
    "        self.album_name = album_name\n",
    "\n",
    "    def __str__(self):\n",
    "        return f'{self.track_id} - {self.track_name} - {self.artist} - {self.album_name}'"
   ],
   "metadata": {
    "collapsed": false,
    "ExecuteTime": {
     "end_time": "2024-12-02T20:25:33.770387Z",
     "start_time": "2024-12-02T20:25:33.768175Z"
    }
   }
  },
  {
   "cell_type": "code",
   "execution_count": 13,
   "outputs": [],
   "source": [
    "# read dataframe to list of Track objects\n",
    "tracks = []\n",
    "for index, row in basic_information.iterrows():\n",
    "    track = Track(row['id'], row['song'], row['artist'], row['album_name'])\n",
    "    tracks.append(track)"
   ],
   "metadata": {
    "collapsed": false,
    "ExecuteTime": {
     "end_time": "2024-12-02T20:25:34.802462Z",
     "start_time": "2024-12-02T20:25:34.747070Z"
    }
   }
  },
  {
   "cell_type": "code",
   "execution_count": null,
   "outputs": [],
   "source": [
    "class EvaluationMetric:\n",
    "    def __init__(self):\n",
    "        pass\n",
    "\n",
    "    def evaluate(self, recommended_tracks, relevant_tracks):\n",
    "        pass"
   ],
   "metadata": {
    "collapsed": false
   }
  },
  {
   "cell_type": "code",
   "execution_count": null,
   "outputs": [],
   "source": [
    "class EvaluationProtocol:\n",
    "    def __init__(self):\n",
    "        pass\n",
    "\n",
    "    def evaluate(self, ir_system):\n",
    "        pass"
   ],
   "metadata": {
    "collapsed": false
   }
  },
  {
   "cell_type": "code",
   "execution_count": 19,
   "outputs": [],
   "source": [
    "class IRSystem:\n",
    "    def __init__(self, tracks):\n",
    "        self.tracks = tracks\n",
    "\n",
    "    def query(self, query: Track, n=10):\n",
    "        pass\n"
   ],
   "metadata": {
    "collapsed": false,
    "ExecuteTime": {
     "end_time": "2024-12-02T20:30:35.599400Z",
     "start_time": "2024-12-02T20:30:35.597664Z"
    }
   }
  },
  {
   "cell_type": "code",
   "execution_count": 20,
   "outputs": [],
   "source": [
    "class BaselineIRSystem(IRSystem):\n",
    "    def __init__(self, tracks):\n",
    "        super().__init__(tracks)\n",
    "\n",
    "    def query(self, query: Track, n = 10):\n",
    "        # return n random tracks, excluding the query track\n",
    "        remaining_tracks = [t for t in self.tracks if track.track_id != query.track_id]\n",
    "        return np.random.choice(remaining_tracks, n, replace=False).tolist()\n"
   ],
   "metadata": {
    "collapsed": false,
    "ExecuteTime": {
     "end_time": "2024-12-02T20:30:37.176889Z",
     "start_time": "2024-12-02T20:30:37.175493Z"
    }
   }
  },
  {
   "cell_type": "code",
   "execution_count": 23,
   "outputs": [
    {
     "name": "stdout",
     "output_type": "stream",
     "text": [
      "Recommended tracks for 01rMxQv6vhyE1oQX - Chasing Ghosts - Against the Current - In Our Bones:\n",
      "nKkZF0Sz1MqC6SgF - GIANTS - Take That - Wonderland (Deluxe)\n",
      "EnTMaNU4h8i36T7c - La Reina Pálida - Viva Belgrado - Flores, Carne\n",
      "CfCJl3HWjZCvaTv3 - Let Me Blow Ya Mind - Eve - Scorpion\n",
      "lWZd80tzQRrmX000 - Macrosolutions to Megaproblems - Voivod - Dimension Hatröss\n",
      "mYgAsL6tN5RXeoo5 - Luna - Deafheaven - New Bermuda\n",
      "IWljtlDfIjJHuMkn - Antichrist - The 1975 - The 1975 (Deluxe Version)\n",
      "pj7SWzUYCu48xN0K - Zumbi - Ellen Oléria - Ellen Oléria\n",
      "0zoJxZanHfdvKNJ9 - Currents - Evergrey - The Atlantic\n",
      "Lyrnxwe2GGwcKebH - Waydown - Catherine Wheel - Happy Days\n",
      "po1zh0ciVL9waCrH - A Boat Lies Waiting - David Gilmour - Rattle That Lock (Deluxe)\n"
     ]
    }
   ],
   "source": [
    "# test baseline IR system\n",
    "baseline_ir = BaselineIRSystem(tracks)\n",
    "query_track = tracks[0]\n",
    "recommended_tracks = baseline_ir.query(query_track)\n",
    "\n",
    "print(f'Recommended tracks for {query_track}:')\n",
    "for track in recommended_tracks:\n",
    "    print(track)"
   ],
   "metadata": {
    "collapsed": false,
    "ExecuteTime": {
     "end_time": "2024-12-02T20:30:56.881581Z",
     "start_time": "2024-12-02T20:30:56.879388Z"
    }
   }
  }
 ],
 "metadata": {
  "kernelspec": {
   "display_name": "Python 3",
   "language": "python",
   "name": "python3"
  },
  "language_info": {
   "codemirror_mode": {
    "name": "ipython",
    "version": 2
   },
   "file_extension": ".py",
   "mimetype": "text/x-python",
   "name": "python",
   "nbconvert_exporter": "python",
   "pygments_lexer": "ipython2",
   "version": "2.7.6"
  }
 },
 "nbformat": 4,
 "nbformat_minor": 0
}
